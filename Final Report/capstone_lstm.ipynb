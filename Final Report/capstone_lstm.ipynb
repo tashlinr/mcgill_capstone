{
 "cells": [
  {
   "cell_type": "code",
   "execution_count": 540,
   "metadata": {},
   "outputs": [],
   "source": [
    "import pandas as pd\n",
    "from datetime import datetime"
   ]
  },
  {
   "cell_type": "code",
   "execution_count": 541,
   "metadata": {},
   "outputs": [],
   "source": [
    "def parse(x):\n",
    "    return datetime.strptime(x, '%Y %m %d %H')"
   ]
  },
  {
   "cell_type": "code",
   "execution_count": 542,
   "metadata": {},
   "outputs": [],
   "source": [
    "dataset = pd.read_csv('last_one.csv',  parse_dates = [['year', 'month', 'day', 'hour']], index_col=0, date_parser=parse)"
   ]
  },
  {
   "cell_type": "code",
   "execution_count": 543,
   "metadata": {},
   "outputs": [],
   "source": [
    "dataset.drop('Unnamed: 0', axis=1, inplace=True)\n"
   ]
  },
  {
   "cell_type": "code",
   "execution_count": 544,
   "metadata": {},
   "outputs": [],
   "source": [
    "dataset.index.name = 'date'"
   ]
  },
  {
   "cell_type": "code",
   "execution_count": 545,
   "metadata": {},
   "outputs": [
    {
     "data": {
      "text/html": [
       "<div>\n",
       "<style scoped>\n",
       "    .dataframe tbody tr th:only-of-type {\n",
       "        vertical-align: middle;\n",
       "    }\n",
       "\n",
       "    .dataframe tbody tr th {\n",
       "        vertical-align: top;\n",
       "    }\n",
       "\n",
       "    .dataframe thead th {\n",
       "        text-align: right;\n",
       "    }\n",
       "</style>\n",
       "<table border=\"1\" class=\"dataframe\">\n",
       "  <thead>\n",
       "    <tr style=\"text-align: right;\">\n",
       "      <th></th>\n",
       "      <th>ville</th>\n",
       "      <th>Total incidents</th>\n",
       "      <th>Temp</th>\n",
       "      <th>Dew_point</th>\n",
       "      <th>Humidity</th>\n",
       "      <th>weekday</th>\n",
       "      <th>caserne</th>\n",
       "      <th>division</th>\n",
       "      <th>latitude</th>\n",
       "      <th>longitude</th>\n",
       "      <th>nombre_unites</th>\n",
       "      <th>area(km2)</th>\n",
       "      <th>density</th>\n",
       "      <th>income-avg(2015)</th>\n",
       "      <th>income-median(2015)</th>\n",
       "      <th>population</th>\n",
       "      <th>#int</th>\n",
       "    </tr>\n",
       "    <tr>\n",
       "      <th>date</th>\n",
       "      <th></th>\n",
       "      <th></th>\n",
       "      <th></th>\n",
       "      <th></th>\n",
       "      <th></th>\n",
       "      <th></th>\n",
       "      <th></th>\n",
       "      <th></th>\n",
       "      <th></th>\n",
       "      <th></th>\n",
       "      <th></th>\n",
       "      <th></th>\n",
       "      <th></th>\n",
       "      <th></th>\n",
       "      <th></th>\n",
       "      <th></th>\n",
       "      <th></th>\n",
       "    </tr>\n",
       "  </thead>\n",
       "  <tbody>\n",
       "    <tr>\n",
       "      <th>2008-01-01 00:00:00</th>\n",
       "      <td>Ahuntsic / Cartierville</td>\n",
       "      <td>11</td>\n",
       "      <td>-4.7</td>\n",
       "      <td>-6.3</td>\n",
       "      <td>89.0</td>\n",
       "      <td>1</td>\n",
       "      <td>42.5</td>\n",
       "      <td>21.0</td>\n",
       "      <td>45.556506</td>\n",
       "      <td>-73.685032</td>\n",
       "      <td>2.0</td>\n",
       "      <td>24.16</td>\n",
       "      <td>5556.498344</td>\n",
       "      <td>70105.0</td>\n",
       "      <td>51169.0</td>\n",
       "      <td>122475.1932</td>\n",
       "      <td>2</td>\n",
       "    </tr>\n",
       "    <tr>\n",
       "      <th>2008-01-01 01:00:00</th>\n",
       "      <td>Ahuntsic / Cartierville</td>\n",
       "      <td>3</td>\n",
       "      <td>-4.2</td>\n",
       "      <td>-6.3</td>\n",
       "      <td>85.0</td>\n",
       "      <td>1</td>\n",
       "      <td>0.0</td>\n",
       "      <td>0.0</td>\n",
       "      <td>45.581554</td>\n",
       "      <td>-73.651107</td>\n",
       "      <td>0.0</td>\n",
       "      <td>24.16</td>\n",
       "      <td>5556.498344</td>\n",
       "      <td>70105.0</td>\n",
       "      <td>51169.0</td>\n",
       "      <td>122475.1932</td>\n",
       "      <td>0</td>\n",
       "    </tr>\n",
       "    <tr>\n",
       "      <th>2008-01-01 02:00:00</th>\n",
       "      <td>Ahuntsic / Cartierville</td>\n",
       "      <td>4</td>\n",
       "      <td>-2.8</td>\n",
       "      <td>-6.2</td>\n",
       "      <td>77.0</td>\n",
       "      <td>1</td>\n",
       "      <td>42.0</td>\n",
       "      <td>21.0</td>\n",
       "      <td>45.524449</td>\n",
       "      <td>-73.737146</td>\n",
       "      <td>1.0</td>\n",
       "      <td>24.16</td>\n",
       "      <td>5556.498344</td>\n",
       "      <td>70105.0</td>\n",
       "      <td>51169.0</td>\n",
       "      <td>122475.1932</td>\n",
       "      <td>1</td>\n",
       "    </tr>\n",
       "    <tr>\n",
       "      <th>2008-01-01 03:00:00</th>\n",
       "      <td>Ahuntsic / Cartierville</td>\n",
       "      <td>12</td>\n",
       "      <td>-2.1</td>\n",
       "      <td>-5.7</td>\n",
       "      <td>76.0</td>\n",
       "      <td>1</td>\n",
       "      <td>38.5</td>\n",
       "      <td>21.0</td>\n",
       "      <td>45.548322</td>\n",
       "      <td>-73.677277</td>\n",
       "      <td>3.0</td>\n",
       "      <td>24.16</td>\n",
       "      <td>5556.498344</td>\n",
       "      <td>70105.0</td>\n",
       "      <td>51169.0</td>\n",
       "      <td>122475.1932</td>\n",
       "      <td>2</td>\n",
       "    </tr>\n",
       "    <tr>\n",
       "      <th>2008-01-01 04:00:00</th>\n",
       "      <td>Ahuntsic / Cartierville</td>\n",
       "      <td>11</td>\n",
       "      <td>-2.2</td>\n",
       "      <td>-5.5</td>\n",
       "      <td>78.0</td>\n",
       "      <td>1</td>\n",
       "      <td>43.0</td>\n",
       "      <td>21.0</td>\n",
       "      <td>45.570641</td>\n",
       "      <td>-73.656907</td>\n",
       "      <td>1.0</td>\n",
       "      <td>24.16</td>\n",
       "      <td>5556.498344</td>\n",
       "      <td>70105.0</td>\n",
       "      <td>51169.0</td>\n",
       "      <td>122475.1932</td>\n",
       "      <td>1</td>\n",
       "    </tr>\n",
       "  </tbody>\n",
       "</table>\n",
       "</div>"
      ],
      "text/plain": [
       "                                       ville  Total incidents  Temp  \\\n",
       "date                                                                  \n",
       "2008-01-01 00:00:00  Ahuntsic / Cartierville               11  -4.7   \n",
       "2008-01-01 01:00:00  Ahuntsic / Cartierville                3  -4.2   \n",
       "2008-01-01 02:00:00  Ahuntsic / Cartierville                4  -2.8   \n",
       "2008-01-01 03:00:00  Ahuntsic / Cartierville               12  -2.1   \n",
       "2008-01-01 04:00:00  Ahuntsic / Cartierville               11  -2.2   \n",
       "\n",
       "                     Dew_point  Humidity  weekday  caserne  division  \\\n",
       "date                                                                   \n",
       "2008-01-01 00:00:00       -6.3      89.0        1     42.5      21.0   \n",
       "2008-01-01 01:00:00       -6.3      85.0        1      0.0       0.0   \n",
       "2008-01-01 02:00:00       -6.2      77.0        1     42.0      21.0   \n",
       "2008-01-01 03:00:00       -5.7      76.0        1     38.5      21.0   \n",
       "2008-01-01 04:00:00       -5.5      78.0        1     43.0      21.0   \n",
       "\n",
       "                      latitude  longitude  nombre_unites  area(km2)  \\\n",
       "date                                                                  \n",
       "2008-01-01 00:00:00  45.556506 -73.685032            2.0      24.16   \n",
       "2008-01-01 01:00:00  45.581554 -73.651107            0.0      24.16   \n",
       "2008-01-01 02:00:00  45.524449 -73.737146            1.0      24.16   \n",
       "2008-01-01 03:00:00  45.548322 -73.677277            3.0      24.16   \n",
       "2008-01-01 04:00:00  45.570641 -73.656907            1.0      24.16   \n",
       "\n",
       "                         density  income-avg(2015)  income-median(2015)  \\\n",
       "date                                                                      \n",
       "2008-01-01 00:00:00  5556.498344           70105.0              51169.0   \n",
       "2008-01-01 01:00:00  5556.498344           70105.0              51169.0   \n",
       "2008-01-01 02:00:00  5556.498344           70105.0              51169.0   \n",
       "2008-01-01 03:00:00  5556.498344           70105.0              51169.0   \n",
       "2008-01-01 04:00:00  5556.498344           70105.0              51169.0   \n",
       "\n",
       "                      population  #int  \n",
       "date                                    \n",
       "2008-01-01 00:00:00  122475.1932     2  \n",
       "2008-01-01 01:00:00  122475.1932     0  \n",
       "2008-01-01 02:00:00  122475.1932     1  \n",
       "2008-01-01 03:00:00  122475.1932     2  \n",
       "2008-01-01 04:00:00  122475.1932     1  "
      ]
     },
     "execution_count": 545,
     "metadata": {},
     "output_type": "execute_result"
    }
   ],
   "source": [
    "dataset.head()"
   ]
  },
  {
   "cell_type": "code",
   "execution_count": 546,
   "metadata": {},
   "outputs": [],
   "source": [
    "dataset = dataset[dataset['ville']==\"Westmount\"]\n",
    "dataset.drop('ville', axis=1, inplace=True)"
   ]
  },
  {
   "cell_type": "code",
   "execution_count": null,
   "metadata": {},
   "outputs": [],
   "source": []
  },
  {
   "cell_type": "code",
   "execution_count": 547,
   "metadata": {},
   "outputs": [
    {
     "data": {
      "image/png": "[encoded data removed]",
      "text/plain": [
       "<matplotlib.figure.Figure at 0x1aa520b550>"
      ]
     },
     "metadata": {},
     "output_type": "display_data"
    }
   ],
   "source": [
    "from matplotlib import pyplot\n",
    "%matplotlib inline\n",
    "# load dataset\n",
    "values = dataset.values\n",
    "# specify columns to plot\n",
    "groups = [15, 14, 9, 0, 1, 2, 3]\n",
    "i = 1\n",
    "# plot each column\n",
    "pyplot.figure()\n",
    "for group in groups:\n",
    "\tpyplot.subplot(len(groups), 1, i)\n",
    "\tpyplot.plot(values[:, group])\n",
    "\tpyplot.title(dataset.columns[group], y=0.5, loc='right')\n",
    "\ti += 1\n",
    "pyplot.show()"
   ]
  },
  {
   "cell_type": "code",
   "execution_count": 548,
   "metadata": {},
   "outputs": [],
   "source": [
    "def series_to_supervised(data, n_in=1, n_out=1, dropnan=True):\n",
    "\tn_vars = 1 if type(data) is list else data.shape[1]\n",
    "\tdf = pd.DataFrame(data)\n",
    "\tcols, names = list(), list()\n",
    "\t# input sequence (t-n, ... t-1)\n",
    "\tfor i in range(n_in, 0, -1):\n",
    "\t\tcols.append(df.shift(i))\n",
    "\t\tnames += [('var%d(t-%d)' % (j+1, i)) for j in range(n_vars)]\n",
    "\t# forecast sequence (t, t+1, ... t+n)\n",
    "\tfor i in range(0, n_out):\n",
    "\t\tcols.append(df.shift(-i))\n",
    "\t\tif i == 0:\n",
    "\t\t\tnames += [('var%d(t)' % (j+1)) for j in range(n_vars)]\n",
    "\t\telse:\n",
    "\t\t\tnames += [('var%d(t+%d)' % (j+1, i)) for j in range(n_vars)]\n",
    "\t# put it all together\n",
    "\tagg = pd.concat(cols, axis=1)\n",
    "\tagg.columns = names\n",
    "\t# drop rows with NaN values\n",
    "\tif dropnan:\n",
    "\t\tagg.dropna(inplace=True)\n",
    "\treturn agg"
   ]
  },
  {
   "cell_type": "code",
   "execution_count": 549,
   "metadata": {},
   "outputs": [
    {
     "name": "stdout",
     "output_type": "stream",
     "text": [
      "   var1(t-1)  var2(t-1)  var3(t-1)  var4(t-1)  var5(t-1)  var6(t-1)  \\\n",
      "1   0.117647   0.369010   0.461938   0.875000   0.166667        1.0   \n",
      "2   0.023529   0.376997   0.461938   0.829545   0.166667        0.0   \n",
      "3   0.035294   0.399361   0.463668   0.738636   0.166667        1.0   \n",
      "4   0.129412   0.410543   0.472318   0.727273   0.166667        0.0   \n",
      "5   0.117647   0.408946   0.475779   0.750000   0.166667        0.0   \n",
      "\n",
      "   var7(t-1)  var8(t-1)  var9(t-1)  var10(t-1)  var11(t-1)  var12(t-1)  \\\n",
      "1   0.944444   0.399170   0.654419    0.007407         0.0         0.0   \n",
      "2   0.000000   0.399170   0.654419    0.000000         0.0         0.0   \n",
      "3   0.944444   0.597656   0.668579    0.007407         0.0         0.0   \n",
      "4   0.000000   0.597656   0.668579    0.000000         0.0         0.0   \n",
      "5   0.000000   0.597656   0.668579    0.000000         0.0         0.0   \n",
      "\n",
      "   var13(t-1)  var14(t-1)  var15(t-1)  var16(t-1)  var16(t)  \n",
      "1         0.0         0.0    0.633823       0.125     0.000  \n",
      "2         0.0         0.0    0.633823       0.000     0.125  \n",
      "3         0.0         0.0    0.633823       0.125     0.000  \n",
      "4         0.0         0.0    0.633823       0.000     0.000  \n",
      "5         0.0         0.0    0.633823       0.000     0.000  \n"
     ]
    }
   ],
   "source": [
    "from sklearn import preprocessing as pp\n",
    "\n",
    "# ensure all data is float\n",
    "values = values.astype('float32')\n",
    "# normalize features\n",
    "scaler = pp.MinMaxScaler(feature_range=(0, 1))\n",
    "scaled = scaler.fit_transform(values)\n",
    "\n",
    "# frame as supervised learning\n",
    "reframed = series_to_supervised(scaled, 1, 1)\n",
    "\n",
    "#drop columns we don't want to predict\n",
    "reframed.drop(reframed[['var1(t)', 'var2(t)', 'var3(t)', 'var4(t)',\n",
    "       'var5(t)', 'var6(t)', 'var7(t)', 'var8(t)', 'var9(t)', 'var10(t)',\n",
    "       'var11(t)', 'var12(t)', 'var13(t)', 'var14(t)', 'var15(t)']], axis=1, inplace=True)\n",
    "print(reframed.head())\n",
    "\n"
   ]
  },
  {
   "cell_type": "code",
   "execution_count": null,
   "metadata": {},
   "outputs": [],
   "source": []
  },
  {
   "cell_type": "code",
   "execution_count": 550,
   "metadata": {},
   "outputs": [
    {
     "name": "stdout",
     "output_type": "stream",
     "text": [
      "(52560, 1, 16) (52560,) (17520, 1, 16) (17520,) (18717, 1, 16) (18717,)\n"
     ]
    }
   ],
   "source": [
    "# split into train and test sets\n",
    "\n",
    "values = reframed.values\n",
    "\n",
    "\n",
    "#train data on first 6 year\n",
    "#cross validate on next 2 year\n",
    "#test on following ~2 years\n",
    "\n",
    "n_train_hours = 365 * 24 * 6\n",
    "n_cv_hours = 365 *24 *8\n",
    "\n",
    "#split train, cv(cross_validation), test\n",
    "train = values[:n_train_hours, :]\n",
    "cv = values[n_train_hours:n_cv_hours, :]\n",
    "test = values[n_cv_hours:, :]\n",
    "\n",
    "# split into input and outputs\n",
    "train_X, train_y = train[:, :-1], train[:, -1]\n",
    "cv_X, cv_y = cv[:, :-1], cv[:, -1]\n",
    "test_X, test_y = test[:, :-1], test[:, -1]\n",
    "\n",
    "# reshape input to be 3D [samples, timesteps, features]\n",
    "\n",
    "train_X = train_X.reshape((train_X.shape[0], 1, train_X.shape[1]))\n",
    "cv_X = cv_X.reshape((cv_X.shape[0], 1, cv_X.shape[1]))\n",
    "test_X = test_X.reshape((test_X.shape[0], 1, test_X.shape[1]))\n",
    "print(train_X.shape, train_y.shape, cv_X.shape, cv_y.shape, test_X.shape, test_y.shape)"
   ]
  },
  {
   "cell_type": "code",
   "execution_count": 557,
   "metadata": {},
   "outputs": [],
   "source": [
    "from keras.models import Sequential\n",
    "from keras.layers import Dense, Dropout, Flatten\n",
    "from keras.layers import Embedding\n",
    "from keras.layers import LSTM\n",
    "from keras.optimizers import adam\n",
    "from keras.callbacks import EarlyStopping\n",
    "from keras import metrics\n",
    "from keras import losses\n",
    "\n",
    "callback = EarlyStopping(monitor='val_loss', min_delta=0, patience=5, verbose=2, mode='auto', baseline=None, restore_best_weights=False)\n",
    "#callbacks = [callback],"
   ]
  },
  {
   "cell_type": "code",
   "execution_count": 569,
   "metadata": {
    "scrolled": false
   },
   "outputs": [
    {
     "name": "stdout",
     "output_type": "stream",
     "text": [
      "Train on 52560 samples, validate on 17520 samples\n",
      "Epoch 1/50\n",
      "52560/52560 [==============================] - 8s 159us/step - loss: 0.0314 - sparse_categorical_accuracy: 0.8685 - val_loss: 7.7446e-04 - val_sparse_categorical_accuracy: 0.8671\n",
      "Epoch 2/50\n",
      "52560/52560 [==============================] - 4s 78us/step - loss: 7.0293e-04 - sparse_categorical_accuracy: 0.8692 - val_loss: 7.7239e-04 - val_sparse_categorical_accuracy: 0.8671\n",
      "Epoch 3/50\n",
      "52560/52560 [==============================] - 5s 96us/step - loss: 5.4063e-05 - sparse_categorical_accuracy: 0.8692 - val_loss: 7.7565e-04 - val_sparse_categorical_accuracy: 0.8671\n",
      "Epoch 4/50\n",
      "52560/52560 [==============================] - 5s 96us/step - loss: 1.2264e-06 - sparse_categorical_accuracy: 0.8692 - val_loss: 7.7669e-04 - val_sparse_categorical_accuracy: 0.8671\n",
      "Epoch 5/50\n",
      "52560/52560 [==============================] - 5s 98us/step - loss: 1.1938e-06 - sparse_categorical_accuracy: 0.8692 - val_loss: 7.7802e-04 - val_sparse_categorical_accuracy: 0.8671\n",
      "Epoch 6/50\n",
      "52560/52560 [==============================] - 5s 99us/step - loss: 1.1565e-06 - sparse_categorical_accuracy: 0.8692 - val_loss: 7.7974e-04 - val_sparse_categorical_accuracy: 0.8671\n",
      "Epoch 7/50\n",
      "52560/52560 [==============================] - 5s 89us/step - loss: 1.1123e-06 - sparse_categorical_accuracy: 0.8692 - val_loss: 7.8191e-04 - val_sparse_categorical_accuracy: 0.8671\n",
      "Epoch 00007: early stopping\n"
     ]
    },
    {
     "data": {
      "image/png": "[encoded data removed]",
      "text/plain": [
       "<matplotlib.figure.Figure at 0x1abcd971d0>"
      ]
     },
     "metadata": {},
     "output_type": "display_data"
    }
   ],
   "source": [
    "model = Sequential()\n",
    "model.add(LSTM(50, input_shape=(train_X.shape[1], train_X.shape[2])))\n",
    "#model.add(Flatten())\n",
    "model.add(Dense(2, activation='relu'))\n",
    "model.compile(loss=losses.sparse_categorical_crossentropy, optimizer='adam', metrics = [metrics.sparse_categorical_accuracy])\n",
    "# fit network\n",
    "history = model.fit(train_X, train_y, epochs=50, batch_size=72, validation_data=(cv_X, cv_y), callbacks =[callback],  verbose=1, shuffle=False)\n",
    "# plot history\n",
    "pyplot.plot(history.history['loss'], label='train')\n",
    "pyplot.plot(history.history['val_loss'], label='test')\n",
    "pyplot.legend()\n",
    "pyplot.show()"
   ]
  },
  {
   "cell_type": "code",
   "execution_count": 578,
   "metadata": {
    "scrolled": true
   },
   "outputs": [
    {
     "name": "stdout",
     "output_type": "stream",
     "text": [
      "Test RMSE: 9.596\n"
     ]
    }
   ],
   "source": [
    "from math import sqrt\n",
    "from numpy import concatenate\n",
    "from sklearn.preprocessing import MinMaxScaler\n",
    "from sklearn.preprocessing import LabelEncoder\n",
    "from sklearn.metrics import mean_squared_error\n",
    "\n",
    "yhat = model.predict(test_X)\n",
    "\n",
    "test_X_re = test_X.reshape((test_X.shape[0], test_X.shape[2]))\n",
    "# invert scaling for forecast\n",
    "test_yhat = yhat[:,0].reshape((len(yhat[:,0]), 1))\n",
    "inv_yhat = concatenate((test_yhat, test_X_re[:, :-1]), axis=1)\n",
    "inv_yhat = scaler.inverse_transform(inv_yhat)\n",
    "inv_yhat = inv_yhat[:,0]\n",
    "# invert scaling for actual\n",
    "test_y = test_y.reshape((len(test_y), 1))\n",
    "inv_y = concatenate((test_y, test_X_re[:, :-1]), axis=1)\n",
    "inv_y = scaler.inverse_transform(inv_y)\n",
    "inv_y = inv_y[:,0]\n",
    "# calculate RMSE\n",
    "rmse = sqrt(mean_squared_error(inv_y, inv_yhat))\n",
    "print('Test RMSE: %.3f' % rmse)"
   ]
  },
  {
   "cell_type": "code",
   "execution_count": null,
   "metadata": {},
   "outputs": [],
   "source": []
  }
 ],
 "metadata": {
  "kernelspec": {
   "display_name": "Python 3",
   "language": "python",
   "name": "python3"
  },
  "language_info": {
   "codemirror_mode": {
    "name": "ipython",
    "version": 3
   },
   "file_extension": ".py",
   "mimetype": "text/x-python",
   "name": "python",
   "nbconvert_exporter": "python",
   "pygments_lexer": "ipython3",
   "version": "3.6.6"
  }
 },
 "nbformat": 4,
 "nbformat_minor": 2
}
