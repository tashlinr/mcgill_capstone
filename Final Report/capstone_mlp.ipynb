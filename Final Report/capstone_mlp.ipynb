{
 "cells": [
  {
   "cell_type": "markdown",
   "metadata": {},
   "source": [
    "### Attempt at creating MLP for Intervention Prediction"
   ]
  },
  {
   "cell_type": "code",
   "execution_count": 62,
   "metadata": {},
   "outputs": [],
   "source": [
    "import pandas as pd\n",
    "import numpy as np\n",
    "import matplotlib.pyplot as plt\n",
    "%matplotlib inline"
   ]
  },
  {
   "cell_type": "code",
   "execution_count": 63,
   "metadata": {},
   "outputs": [],
   "source": [
    "df = pd.read_csv(\"last_one.csv\")"
   ]
  },
  {
   "cell_type": "code",
   "execution_count": 64,
   "metadata": {},
   "outputs": [],
   "source": [
    "\n",
    "df.drop('Unnamed: 0', axis = 1, inplace = True)"
   ]
  },
  {
   "cell_type": "code",
   "execution_count": 65,
   "metadata": {},
   "outputs": [],
   "source": [
    "#one hot encode neighborhoods\n",
    "test = pd.get_dummies(df,prefix=['ville'])"
   ]
  },
  {
   "cell_type": "code",
   "execution_count": 66,
   "metadata": {},
   "outputs": [
    {
     "data": {
      "text/plain": [
       "(2663940, 50)"
      ]
     },
     "execution_count": 66,
     "metadata": {},
     "output_type": "execute_result"
    }
   ],
   "source": [
    "test.shape"
   ]
  },
  {
   "cell_type": "code",
   "execution_count": 67,
   "metadata": {},
   "outputs": [],
   "source": [
    "from sklearn import preprocessing as pp\n",
    "\n",
    "df_y = test['#int'];\n",
    "df_X = test.drop(\"#int\", axis = 1);\n",
    "df_X['#int'] = df_y\n",
    "values = df_X.values\n",
    "values = values.astype('float32')\n",
    "# normalize features\n",
    "scaler = pp.MinMaxScaler(feature_range=(0, 1))\n",
    "scaled = scaler.fit_transform(values)\n",
    "X, y = scaled[:, :-1], scaled[:, -1]"
   ]
  },
  {
   "cell_type": "code",
   "execution_count": 68,
   "metadata": {},
   "outputs": [],
   "source": [
    "from sklearn.model_selection import train_test_split"
   ]
  },
  {
   "cell_type": "code",
   "execution_count": 69,
   "metadata": {},
   "outputs": [],
   "source": [
    "X_train, X_test, y_train, y_test = train_test_split(X, y, test_size=0.33, random_state=42)"
   ]
  },
  {
   "cell_type": "code",
   "execution_count": 70,
   "metadata": {},
   "outputs": [],
   "source": [
    "from keras.models import Sequential\n",
    "from keras.layers import Dense, Activation\n",
    "from keras import metrics, losses"
   ]
  },
  {
   "cell_type": "code",
   "execution_count": 71,
   "metadata": {},
   "outputs": [],
   "source": [
    "model = Sequential()\n",
    "model.add(Dense(100, activation='relu', input_dim=49))\n",
    "model.add(Dense(50))\n",
    "model.add(Dense(2, activation='softmax'))\n",
    "model.compile(optimizer='adam', loss=losses.sparse_categorical_crossentropy, metrics = [metrics.sparse_categorical_accuracy])"
   ]
  },
  {
   "cell_type": "code",
   "execution_count": 72,
   "metadata": {},
   "outputs": [
    {
     "name": "stdout",
     "output_type": "stream",
     "text": [
      "Train on 1784839 samples, validate on 879101 samples\n",
      "Epoch 1/20\n",
      "1784839/1784839 [==============================] - 31s 17us/step - loss: 2.2333e-04 - sparse_categorical_accuracy: 0.7032 - val_loss: 1.1962e-07 - val_sparse_categorical_accuracy: 0.7034\n",
      "Epoch 2/20\n",
      "1784839/1784839 [==============================] - 16s 9us/step - loss: 9.1499e-06 - sparse_categorical_accuracy: 0.7032 - val_loss: 1.1922e-07 - val_sparse_categorical_accuracy: 0.7034\n",
      "Epoch 3/20\n",
      "1784839/1784839 [==============================] - 17s 9us/step - loss: 9.1498e-06 - sparse_categorical_accuracy: 0.7032 - val_loss: 1.1921e-07 - val_sparse_categorical_accuracy: 0.7034\n",
      "Epoch 4/20\n",
      "1784839/1784839 [==============================] - 17s 10us/step - loss: 9.1498e-06 - sparse_categorical_accuracy: 0.7032 - val_loss: 1.1921e-07 - val_sparse_categorical_accuracy: 0.7034\n",
      "Epoch 5/20\n",
      "1784839/1784839 [==============================] - 17s 10us/step - loss: 9.1498e-06 - sparse_categorical_accuracy: 0.7032 - val_loss: 1.1921e-07 - val_sparse_categorical_accuracy: 0.7034\n",
      "Epoch 6/20\n",
      "1784839/1784839 [==============================] - 17s 10us/step - loss: 9.1498e-06 - sparse_categorical_accuracy: 0.7032 - val_loss: 1.1921e-07 - val_sparse_categorical_accuracy: 0.7034\n",
      "Epoch 7/20\n",
      "1784839/1784839 [==============================] - 16s 9us/step - loss: 9.1498e-06 - sparse_categorical_accuracy: 0.7032 - val_loss: 1.1921e-07 - val_sparse_categorical_accuracy: 0.7034\n",
      "Epoch 8/20\n",
      "1784839/1784839 [==============================] - 16s 9us/step - loss: 9.1498e-06 - sparse_categorical_accuracy: 0.7032 - val_loss: 1.1921e-07 - val_sparse_categorical_accuracy: 0.7034\n",
      "Epoch 9/20\n",
      "1784839/1784839 [==============================] - 17s 10us/step - loss: 9.1498e-06 - sparse_categorical_accuracy: 0.7032 - val_loss: 1.1921e-07 - val_sparse_categorical_accuracy: 0.7034\n",
      "Epoch 10/20\n",
      "1784839/1784839 [==============================] - 18s 10us/step - loss: 9.1498e-06 - sparse_categorical_accuracy: 0.7032 - val_loss: 1.1921e-07 - val_sparse_categorical_accuracy: 0.7034\n",
      "Epoch 11/20\n",
      "1784839/1784839 [==============================] - 17s 10us/step - loss: 9.1498e-06 - sparse_categorical_accuracy: 0.7032 - val_loss: 1.1921e-07 - val_sparse_categorical_accuracy: 0.7034\n",
      "Epoch 12/20\n",
      "1784839/1784839 [==============================] - 17s 10us/step - loss: 9.1498e-06 - sparse_categorical_accuracy: 0.7032 - val_loss: 1.1921e-07 - val_sparse_categorical_accuracy: 0.7034\n",
      "Epoch 13/20\n",
      "1784839/1784839 [==============================] - 17s 9us/step - loss: 9.1498e-06 - sparse_categorical_accuracy: 0.7032 - val_loss: 1.1921e-07 - val_sparse_categorical_accuracy: 0.7034\n",
      "Epoch 14/20\n",
      "1784839/1784839 [==============================] - 16s 9us/step - loss: 9.1498e-06 - sparse_categorical_accuracy: 0.7032 - val_loss: 1.1921e-07 - val_sparse_categorical_accuracy: 0.7034\n",
      "Epoch 15/20\n",
      "1784839/1784839 [==============================] - 16s 9us/step - loss: 9.1498e-06 - sparse_categorical_accuracy: 0.7032 - val_loss: 1.1921e-07 - val_sparse_categorical_accuracy: 0.7034\n",
      "Epoch 16/20\n",
      "1784839/1784839 [==============================] - 16s 9us/step - loss: 9.1498e-06 - sparse_categorical_accuracy: 0.7032 - val_loss: 1.1921e-07 - val_sparse_categorical_accuracy: 0.7034\n",
      "Epoch 17/20\n",
      "1784839/1784839 [==============================] - 16s 9us/step - loss: 9.1498e-06 - sparse_categorical_accuracy: 0.7032 - val_loss: 1.1921e-07 - val_sparse_categorical_accuracy: 0.7034\n",
      "Epoch 18/20\n",
      "1784839/1784839 [==============================] - 16s 9us/step - loss: 9.1498e-06 - sparse_categorical_accuracy: 0.7032 - val_loss: 1.1921e-07 - val_sparse_categorical_accuracy: 0.7034\n",
      "Epoch 19/20\n",
      "1784839/1784839 [==============================] - 16s 9us/step - loss: 9.1498e-06 - sparse_categorical_accuracy: 0.7032 - val_loss: 1.1921e-07 - val_sparse_categorical_accuracy: 0.7034\n",
      "Epoch 20/20\n",
      "1784839/1784839 [==============================] - 16s 9us/step - loss: 9.1498e-06 - sparse_categorical_accuracy: 0.7032 - val_loss: 1.1921e-07 - val_sparse_categorical_accuracy: 0.7034\n"
     ]
    },
    {
     "data": {
      "image/png": "[encoded data removed]",
      "text/plain": [
       "<matplotlib.figure.Figure at 0x177a8e160>"
      ]
     },
     "metadata": {},
     "output_type": "display_data"
    }
   ],
   "source": [
    "history = model.fit(X_train, y_train, epochs=20, batch_size=200, validation_data=(X_test, y_test),  verbose=1, shuffle=False)\n",
    "# plot history\n",
    "plt.plot(history.history['loss'], label='train')\n",
    "plt.plot(history.history['val_loss'], label='test')\n",
    "plt.legend()\n",
    "plt.show()"
   ]
  },
  {
   "cell_type": "code",
   "execution_count": 74,
   "metadata": {},
   "outputs": [
    {
     "data": {
      "text/plain": [
       "0.7032774762194344"
      ]
     },
     "execution_count": 74,
     "metadata": {},
     "output_type": "execute_result"
    }
   ],
   "source": [
    "1873489/df_y.shape[0]"
   ]
  },
  {
   "cell_type": "markdown",
   "metadata": {},
   "source": [
    "Unfortunately can see that the algorithm is only outputting Zero as the predictive quantity. If we only predict Zero interventions per hour we arrive at 70% accuracy, although this is NOT what we want. Seems to be little to no predictive power. "
   ]
  },
  {
   "cell_type": "code",
   "execution_count": null,
   "metadata": {},
   "outputs": [],
   "source": []
  }
 ],
 "metadata": {
  "kernelspec": {
   "display_name": "Python 3",
   "language": "python",
   "name": "python3"
  },
  "language_info": {
   "codemirror_mode": {
    "name": "ipython",
    "version": 3
   },
   "file_extension": ".py",
   "mimetype": "text/x-python",
   "name": "python",
   "nbconvert_exporter": "python",
   "pygments_lexer": "ipython3",
   "version": "3.6.6"
  }
 },
 "nbformat": 4,
 "nbformat_minor": 2
}
