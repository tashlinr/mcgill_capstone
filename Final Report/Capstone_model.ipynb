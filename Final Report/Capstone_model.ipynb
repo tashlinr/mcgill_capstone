{
 "cells": [
  {
   "cell_type": "markdown",
   "metadata": {},
   "source": [
    "## 1. Linear Regression"
   ]
  },
  {
   "cell_type": "code",
   "execution_count": 193,
   "metadata": {},
   "outputs": [],
   "source": [
    "import pandas as pd\n",
    "import numpy as np\n",
    "from sklearn.model_selection import train_test_split, cross_val_score\n",
    "from sklearn.preprocessing import scale\n",
    "from sklearn.linear_model import LinearRegression\n",
    "from sklearn.metrics import mean_squared_error as MSE\n",
    "import matplotlib.pyplot as plt\n",
    "%matplotlib inline\n",
    "\n",
    "path='D:/Projects/Capstone/'\n",
    "filename=path+'intervention.csv'\n",
    "data=pd.read_csv(filename,encoding='ISO-8859-1',na_filter=True)"
   ]
  },
  {
   "cell_type": "code",
   "execution_count": 194,
   "metadata": {},
   "outputs": [
    {
     "data": {
      "text/html": [
       "<div>\n",
       "<style>\n",
       "    .dataframe thead tr:only-child th {\n",
       "        text-align: right;\n",
       "    }\n",
       "\n",
       "    .dataframe thead th {\n",
       "        text-align: left;\n",
       "    }\n",
       "\n",
       "    .dataframe tbody tr th {\n",
       "        vertical-align: top;\n",
       "    }\n",
       "</style>\n",
       "<table border=\"1\" class=\"dataframe\">\n",
       "  <thead>\n",
       "    <tr style=\"text-align: right;\">\n",
       "      <th></th>\n",
       "      <th>Unnamed: 0</th>\n",
       "      <th>ville</th>\n",
       "      <th>year</th>\n",
       "      <th>month</th>\n",
       "      <th>day</th>\n",
       "      <th>hour</th>\n",
       "      <th>Total incidents</th>\n",
       "      <th>Temp</th>\n",
       "      <th>Dew_point</th>\n",
       "      <th>Humidity</th>\n",
       "      <th>...</th>\n",
       "      <th>division</th>\n",
       "      <th>latitude</th>\n",
       "      <th>longitude</th>\n",
       "      <th>nombre_unites</th>\n",
       "      <th>area(km2)</th>\n",
       "      <th>density</th>\n",
       "      <th>income-avg(2015)</th>\n",
       "      <th>income-median(2015)</th>\n",
       "      <th>population</th>\n",
       "      <th>#int</th>\n",
       "    </tr>\n",
       "  </thead>\n",
       "  <tbody>\n",
       "    <tr>\n",
       "      <th>0</th>\n",
       "      <td>0</td>\n",
       "      <td>Ahuntsic / Cartierville</td>\n",
       "      <td>2008</td>\n",
       "      <td>1</td>\n",
       "      <td>1</td>\n",
       "      <td>0</td>\n",
       "      <td>11</td>\n",
       "      <td>-4.7</td>\n",
       "      <td>-6.3</td>\n",
       "      <td>89.0</td>\n",
       "      <td>...</td>\n",
       "      <td>21.0</td>\n",
       "      <td>45.556506</td>\n",
       "      <td>-73.685032</td>\n",
       "      <td>2.0</td>\n",
       "      <td>24.16</td>\n",
       "      <td>5556.498344</td>\n",
       "      <td>70105.0</td>\n",
       "      <td>51169.0</td>\n",
       "      <td>122475.1932</td>\n",
       "      <td>2</td>\n",
       "    </tr>\n",
       "    <tr>\n",
       "      <th>1</th>\n",
       "      <td>1</td>\n",
       "      <td>Ahuntsic / Cartierville</td>\n",
       "      <td>2008</td>\n",
       "      <td>1</td>\n",
       "      <td>1</td>\n",
       "      <td>1</td>\n",
       "      <td>3</td>\n",
       "      <td>-4.2</td>\n",
       "      <td>-6.3</td>\n",
       "      <td>85.0</td>\n",
       "      <td>...</td>\n",
       "      <td>21.0</td>\n",
       "      <td>45.581554</td>\n",
       "      <td>-73.651107</td>\n",
       "      <td>1.0</td>\n",
       "      <td>24.16</td>\n",
       "      <td>5556.498344</td>\n",
       "      <td>70105.0</td>\n",
       "      <td>51169.0</td>\n",
       "      <td>122475.1932</td>\n",
       "      <td>0</td>\n",
       "    </tr>\n",
       "    <tr>\n",
       "      <th>2</th>\n",
       "      <td>2</td>\n",
       "      <td>Ahuntsic / Cartierville</td>\n",
       "      <td>2008</td>\n",
       "      <td>1</td>\n",
       "      <td>1</td>\n",
       "      <td>2</td>\n",
       "      <td>4</td>\n",
       "      <td>-2.8</td>\n",
       "      <td>-6.2</td>\n",
       "      <td>77.0</td>\n",
       "      <td>...</td>\n",
       "      <td>21.0</td>\n",
       "      <td>45.524449</td>\n",
       "      <td>-73.737146</td>\n",
       "      <td>1.0</td>\n",
       "      <td>24.16</td>\n",
       "      <td>5556.498344</td>\n",
       "      <td>70105.0</td>\n",
       "      <td>51169.0</td>\n",
       "      <td>122475.1932</td>\n",
       "      <td>1</td>\n",
       "    </tr>\n",
       "    <tr>\n",
       "      <th>3</th>\n",
       "      <td>3</td>\n",
       "      <td>Ahuntsic / Cartierville</td>\n",
       "      <td>2008</td>\n",
       "      <td>1</td>\n",
       "      <td>1</td>\n",
       "      <td>3</td>\n",
       "      <td>12</td>\n",
       "      <td>-2.1</td>\n",
       "      <td>-5.7</td>\n",
       "      <td>76.0</td>\n",
       "      <td>...</td>\n",
       "      <td>21.0</td>\n",
       "      <td>45.548322</td>\n",
       "      <td>-73.677277</td>\n",
       "      <td>3.0</td>\n",
       "      <td>24.16</td>\n",
       "      <td>5556.498344</td>\n",
       "      <td>70105.0</td>\n",
       "      <td>51169.0</td>\n",
       "      <td>122475.1932</td>\n",
       "      <td>2</td>\n",
       "    </tr>\n",
       "    <tr>\n",
       "      <th>4</th>\n",
       "      <td>4</td>\n",
       "      <td>Ahuntsic / Cartierville</td>\n",
       "      <td>2008</td>\n",
       "      <td>1</td>\n",
       "      <td>1</td>\n",
       "      <td>4</td>\n",
       "      <td>11</td>\n",
       "      <td>-2.2</td>\n",
       "      <td>-5.5</td>\n",
       "      <td>78.0</td>\n",
       "      <td>...</td>\n",
       "      <td>21.0</td>\n",
       "      <td>45.570641</td>\n",
       "      <td>-73.656907</td>\n",
       "      <td>1.0</td>\n",
       "      <td>24.16</td>\n",
       "      <td>5556.498344</td>\n",
       "      <td>70105.0</td>\n",
       "      <td>51169.0</td>\n",
       "      <td>122475.1932</td>\n",
       "      <td>1</td>\n",
       "    </tr>\n",
       "  </tbody>\n",
       "</table>\n",
       "<p>5 rows × 22 columns</p>\n",
       "</div>"
      ],
      "text/plain": [
       "   Unnamed: 0                    ville  year  month  day  hour  \\\n",
       "0           0  Ahuntsic / Cartierville  2008      1    1     0   \n",
       "1           1  Ahuntsic / Cartierville  2008      1    1     1   \n",
       "2           2  Ahuntsic / Cartierville  2008      1    1     2   \n",
       "3           3  Ahuntsic / Cartierville  2008      1    1     3   \n",
       "4           4  Ahuntsic / Cartierville  2008      1    1     4   \n",
       "\n",
       "   Total incidents  Temp  Dew_point  Humidity  ...   division   latitude  \\\n",
       "0               11  -4.7       -6.3      89.0  ...       21.0  45.556506   \n",
       "1                3  -4.2       -6.3      85.0  ...       21.0  45.581554   \n",
       "2                4  -2.8       -6.2      77.0  ...       21.0  45.524449   \n",
       "3               12  -2.1       -5.7      76.0  ...       21.0  45.548322   \n",
       "4               11  -2.2       -5.5      78.0  ...       21.0  45.570641   \n",
       "\n",
       "   longitude  nombre_unites  area(km2)      density  income-avg(2015)  \\\n",
       "0 -73.685032            2.0      24.16  5556.498344           70105.0   \n",
       "1 -73.651107            1.0      24.16  5556.498344           70105.0   \n",
       "2 -73.737146            1.0      24.16  5556.498344           70105.0   \n",
       "3 -73.677277            3.0      24.16  5556.498344           70105.0   \n",
       "4 -73.656907            1.0      24.16  5556.498344           70105.0   \n",
       "\n",
       "   income-median(2015)   population  #int  \n",
       "0              51169.0  122475.1932     2  \n",
       "1              51169.0  122475.1932     0  \n",
       "2              51169.0  122475.1932     1  \n",
       "3              51169.0  122475.1932     2  \n",
       "4              51169.0  122475.1932     1  \n",
       "\n",
       "[5 rows x 22 columns]"
      ]
     },
     "execution_count": 194,
     "metadata": {},
     "output_type": "execute_result"
    }
   ],
   "source": [
    "data.head()"
   ]
  },
  {
   "cell_type": "code",
   "execution_count": 195,
   "metadata": {},
   "outputs": [
    {
     "data": {
      "text/plain": [
       "[\"L'Ã\\x8ele-Bizard-Sainte-GeneviÃ¨ve\",\n",
       " 'Villeray-Saint-Michel-Parc-Extension',\n",
       " 'Sud-Ouest',\n",
       " 'Westmount',\n",
       " 'Kirkland',\n",
       " 'Pierrefonds / Roxboro',\n",
       " 'Ville-Marie',\n",
       " 'Lasalle',\n",
       " 'Lachine',\n",
       " 'Anjou',\n",
       " 'RiviÃ¨re-des-Prairies / P-A-T/Mtl-Est',\n",
       " 'CÃ´te St-Luc / Hampstead / Mtl-Ouest',\n",
       " 'Rosemont-La Petite-Patrie',\n",
       " 'Pointe-Claire',\n",
       " 'Dorval / Ile Dorval',\n",
       " 'Plateau Mont-Royal',\n",
       " 'MontrÃ©al-Nord',\n",
       " 'Outremont',\n",
       " 'Verdun',\n",
       " 'CÃ´te-des-Neiges / Notre-Dame-de-GrÃ¢ce',\n",
       " 'Mont-Royal',\n",
       " 'Dollard-des-Ormeaux / Roxboro',\n",
       " 'Pierrefonds / Senneville',\n",
       " 'Ile-Bizard / Ste-GeneviÃ¨ve / Ste-A-de-B',\n",
       " 'RiviÃ¨re-des-Prairies / Pointe-aux-Trembles',\n",
       " 'Saint-Laurent',\n",
       " 'Ahuntsic / Cartierville',\n",
       " \"Beaconsfield / Baie d'UrfÃ©\",\n",
       " 'Saint-LÃ©onard',\n",
       " 'Mercier-Hochelaga-Maisonneuve']"
      ]
     },
     "execution_count": 195,
     "metadata": {},
     "output_type": "execute_result"
    }
   ],
   "source": [
    "ville=data['ville']\n",
    "ville=ville.tolist()\n",
    "ville=set(ville)\n",
    "ville=list(ville)\n",
    "ville"
   ]
  },
  {
   "cell_type": "code",
   "execution_count": 196,
   "metadata": {},
   "outputs": [
    {
     "data": {
      "text/plain": [
       "{'Ahuntsic / Cartierville': 26,\n",
       " 'Anjou': 9,\n",
       " \"Beaconsfield / Baie d'UrfÃ©\": 27,\n",
       " 'CÃ´te St-Luc / Hampstead / Mtl-Ouest': 11,\n",
       " 'CÃ´te-des-Neiges / Notre-Dame-de-GrÃ¢ce': 19,\n",
       " 'Dollard-des-Ormeaux / Roxboro': 21,\n",
       " 'Dorval / Ile Dorval': 14,\n",
       " 'Ile-Bizard / Ste-GeneviÃ¨ve / Ste-A-de-B': 23,\n",
       " 'Kirkland': 4,\n",
       " \"L'Ã\\x8ele-Bizard-Sainte-GeneviÃ¨ve\": 0,\n",
       " 'Lachine': 8,\n",
       " 'Lasalle': 7,\n",
       " 'Mercier-Hochelaga-Maisonneuve': 29,\n",
       " 'Mont-Royal': 20,\n",
       " 'MontrÃ©al-Nord': 16,\n",
       " 'Outremont': 17,\n",
       " 'Pierrefonds / Roxboro': 5,\n",
       " 'Pierrefonds / Senneville': 22,\n",
       " 'Plateau Mont-Royal': 15,\n",
       " 'Pointe-Claire': 13,\n",
       " 'RiviÃ¨re-des-Prairies / P-A-T/Mtl-Est': 10,\n",
       " 'RiviÃ¨re-des-Prairies / Pointe-aux-Trembles': 24,\n",
       " 'Rosemont-La Petite-Patrie': 12,\n",
       " 'Saint-Laurent': 25,\n",
       " 'Saint-LÃ©onard': 28,\n",
       " 'Sud-Ouest': 2,\n",
       " 'Verdun': 18,\n",
       " 'Ville-Marie': 6,\n",
       " 'Villeray-Saint-Michel-Parc-Extension': 1,\n",
       " 'Westmount': 3}"
      ]
     },
     "execution_count": 196,
     "metadata": {},
     "output_type": "execute_result"
    }
   ],
   "source": [
    "dict_ville={}\n",
    "for i in range(30):\n",
    "    dict_ville[ville[i]]=i\n",
    "dict_ville"
   ]
  },
  {
   "cell_type": "markdown",
   "metadata": {},
   "source": [
    "### Hard-code ville and hour"
   ]
  },
  {
   "cell_type": "code",
   "execution_count": 197,
   "metadata": {},
   "outputs": [
    {
     "data": {
      "text/plain": [
       "(2663940, 22)"
      ]
     },
     "execution_count": 197,
     "metadata": {},
     "output_type": "execute_result"
    }
   ],
   "source": [
    "data.shape"
   ]
  },
  {
   "cell_type": "code",
   "execution_count": 198,
   "metadata": {},
   "outputs": [
    {
     "data": {
      "text/plain": [
       "2663940"
      ]
     },
     "execution_count": 198,
     "metadata": {},
     "output_type": "execute_result"
    }
   ],
   "source": [
    "len(data)"
   ]
  },
  {
   "cell_type": "code",
   "execution_count": 199,
   "metadata": {},
   "outputs": [
    {
     "data": {
      "text/plain": [
       "26"
      ]
     },
     "execution_count": 199,
     "metadata": {},
     "output_type": "execute_result"
    }
   ],
   "source": [
    "ville_=data['ville'].values\n",
    "index=dict_ville[ville_[0]]\n",
    "index"
   ]
  },
  {
   "cell_type": "code",
   "execution_count": 200,
   "metadata": {},
   "outputs": [],
   "source": [
    "district_code=np.zeros((30,len(data)))\n",
    "ville_=data['ville'].values\n",
    "for i in range(len(ville_)):\n",
    "    index=dict_ville[ville_[i]]\n",
    "    district_code[index][i]=1"
   ]
  },
  {
   "cell_type": "code",
   "execution_count": 201,
   "metadata": {},
   "outputs": [],
   "source": [
    "hour_code=np.zeros((24,len(data)))\n",
    "hour_=data['hour'].values\n",
    "for i in range(len(hour_)):\n",
    "    index=hour_[i]\n",
    "    hour_code[index][i]=1"
   ]
  },
  {
   "cell_type": "code",
   "execution_count": 202,
   "metadata": {},
   "outputs": [
    {
     "data": {
      "text/plain": [
       "Index(['Unnamed: 0', 'ville', 'year', 'month', 'day', 'hour',\n",
       "       'Total incidents', 'Temp', 'Dew_point', 'Humidity', 'weekday',\n",
       "       'caserne', 'division', 'latitude', 'longitude', 'nombre_unites',\n",
       "       'area(km2)', 'density', 'income-avg(2015)', 'income-median(2015)',\n",
       "       'population', '#int'],\n",
       "      dtype='object')"
      ]
     },
     "execution_count": 202,
     "metadata": {},
     "output_type": "execute_result"
    }
   ],
   "source": [
    "data.columns"
   ]
  },
  {
   "cell_type": "code",
   "execution_count": 203,
   "metadata": {},
   "outputs": [],
   "source": [
    "data=data[['Temp', 'Dew_point', 'Humidity', 'weekday','nombre_unites','area(km2)', 'density', 'income-avg(2015)', 'income-median(2015)',\n",
    "       'population', '#int']]"
   ]
  },
  {
   "cell_type": "code",
   "execution_count": 204,
   "metadata": {},
   "outputs": [
    {
     "data": {
      "text/plain": [
       "(2663940, 11)"
      ]
     },
     "execution_count": 204,
     "metadata": {},
     "output_type": "execute_result"
    }
   ],
   "source": [
    "data.shape"
   ]
  },
  {
   "cell_type": "code",
   "execution_count": 205,
   "metadata": {},
   "outputs": [],
   "source": [
    "name=['v1','v2','v3','v4','v5','v6','v7','v8','v9','v10','v11','v12','v13','v14','v15','v16','v17','v18','v19','v20','v21','v22','v23','v24','v25','v26','v27','v28','v29','v30']\n",
    "for i in range(30):\n",
    "    data[name[i]]=district_code[i]\n"
   ]
  },
  {
   "cell_type": "code",
   "execution_count": 206,
   "metadata": {},
   "outputs": [],
   "source": [
    "name=['h0','h1','h2','h3','h4','h5','h6','h7','h8','h9','h10','h11','h12','h13','h14','h15','h16','h17','h18','h19','h20','h21','h22','h23']\n",
    "for i in range(24):\n",
    "    data[name[i]]=hour_code[i]"
   ]
  },
  {
   "cell_type": "code",
   "execution_count": 207,
   "metadata": {},
   "outputs": [
    {
     "data": {
      "text/html": [
       "<div>\n",
       "<style>\n",
       "    .dataframe thead tr:only-child th {\n",
       "        text-align: right;\n",
       "    }\n",
       "\n",
       "    .dataframe thead th {\n",
       "        text-align: left;\n",
       "    }\n",
       "\n",
       "    .dataframe tbody tr th {\n",
       "        vertical-align: top;\n",
       "    }\n",
       "</style>\n",
       "<table border=\"1\" class=\"dataframe\">\n",
       "  <thead>\n",
       "    <tr style=\"text-align: right;\">\n",
       "      <th></th>\n",
       "      <th>Temp</th>\n",
       "      <th>Dew_point</th>\n",
       "      <th>Humidity</th>\n",
       "      <th>weekday</th>\n",
       "      <th>nombre_unites</th>\n",
       "      <th>area(km2)</th>\n",
       "      <th>density</th>\n",
       "      <th>income-avg(2015)</th>\n",
       "      <th>income-median(2015)</th>\n",
       "      <th>population</th>\n",
       "      <th>...</th>\n",
       "      <th>h14</th>\n",
       "      <th>h15</th>\n",
       "      <th>h16</th>\n",
       "      <th>h17</th>\n",
       "      <th>h18</th>\n",
       "      <th>h19</th>\n",
       "      <th>h20</th>\n",
       "      <th>h21</th>\n",
       "      <th>h22</th>\n",
       "      <th>h23</th>\n",
       "    </tr>\n",
       "  </thead>\n",
       "  <tbody>\n",
       "    <tr>\n",
       "      <th>0</th>\n",
       "      <td>-4.7</td>\n",
       "      <td>-6.3</td>\n",
       "      <td>89.0</td>\n",
       "      <td>1</td>\n",
       "      <td>2.0</td>\n",
       "      <td>24.16</td>\n",
       "      <td>5556.498344</td>\n",
       "      <td>70105.0</td>\n",
       "      <td>51169.0</td>\n",
       "      <td>122475.1932</td>\n",
       "      <td>...</td>\n",
       "      <td>0.0</td>\n",
       "      <td>0.0</td>\n",
       "      <td>0.0</td>\n",
       "      <td>0.0</td>\n",
       "      <td>0.0</td>\n",
       "      <td>0.0</td>\n",
       "      <td>0.0</td>\n",
       "      <td>0.0</td>\n",
       "      <td>0.0</td>\n",
       "      <td>0.0</td>\n",
       "    </tr>\n",
       "    <tr>\n",
       "      <th>1</th>\n",
       "      <td>-4.2</td>\n",
       "      <td>-6.3</td>\n",
       "      <td>85.0</td>\n",
       "      <td>1</td>\n",
       "      <td>1.0</td>\n",
       "      <td>24.16</td>\n",
       "      <td>5556.498344</td>\n",
       "      <td>70105.0</td>\n",
       "      <td>51169.0</td>\n",
       "      <td>122475.1932</td>\n",
       "      <td>...</td>\n",
       "      <td>0.0</td>\n",
       "      <td>0.0</td>\n",
       "      <td>0.0</td>\n",
       "      <td>0.0</td>\n",
       "      <td>0.0</td>\n",
       "      <td>0.0</td>\n",
       "      <td>0.0</td>\n",
       "      <td>0.0</td>\n",
       "      <td>0.0</td>\n",
       "      <td>0.0</td>\n",
       "    </tr>\n",
       "    <tr>\n",
       "      <th>2</th>\n",
       "      <td>-2.8</td>\n",
       "      <td>-6.2</td>\n",
       "      <td>77.0</td>\n",
       "      <td>1</td>\n",
       "      <td>1.0</td>\n",
       "      <td>24.16</td>\n",
       "      <td>5556.498344</td>\n",
       "      <td>70105.0</td>\n",
       "      <td>51169.0</td>\n",
       "      <td>122475.1932</td>\n",
       "      <td>...</td>\n",
       "      <td>0.0</td>\n",
       "      <td>0.0</td>\n",
       "      <td>0.0</td>\n",
       "      <td>0.0</td>\n",
       "      <td>0.0</td>\n",
       "      <td>0.0</td>\n",
       "      <td>0.0</td>\n",
       "      <td>0.0</td>\n",
       "      <td>0.0</td>\n",
       "      <td>0.0</td>\n",
       "    </tr>\n",
       "    <tr>\n",
       "      <th>3</th>\n",
       "      <td>-2.1</td>\n",
       "      <td>-5.7</td>\n",
       "      <td>76.0</td>\n",
       "      <td>1</td>\n",
       "      <td>3.0</td>\n",
       "      <td>24.16</td>\n",
       "      <td>5556.498344</td>\n",
       "      <td>70105.0</td>\n",
       "      <td>51169.0</td>\n",
       "      <td>122475.1932</td>\n",
       "      <td>...</td>\n",
       "      <td>0.0</td>\n",
       "      <td>0.0</td>\n",
       "      <td>0.0</td>\n",
       "      <td>0.0</td>\n",
       "      <td>0.0</td>\n",
       "      <td>0.0</td>\n",
       "      <td>0.0</td>\n",
       "      <td>0.0</td>\n",
       "      <td>0.0</td>\n",
       "      <td>0.0</td>\n",
       "    </tr>\n",
       "    <tr>\n",
       "      <th>4</th>\n",
       "      <td>-2.2</td>\n",
       "      <td>-5.5</td>\n",
       "      <td>78.0</td>\n",
       "      <td>1</td>\n",
       "      <td>1.0</td>\n",
       "      <td>24.16</td>\n",
       "      <td>5556.498344</td>\n",
       "      <td>70105.0</td>\n",
       "      <td>51169.0</td>\n",
       "      <td>122475.1932</td>\n",
       "      <td>...</td>\n",
       "      <td>0.0</td>\n",
       "      <td>0.0</td>\n",
       "      <td>0.0</td>\n",
       "      <td>0.0</td>\n",
       "      <td>0.0</td>\n",
       "      <td>0.0</td>\n",
       "      <td>0.0</td>\n",
       "      <td>0.0</td>\n",
       "      <td>0.0</td>\n",
       "      <td>0.0</td>\n",
       "    </tr>\n",
       "  </tbody>\n",
       "</table>\n",
       "<p>5 rows × 65 columns</p>\n",
       "</div>"
      ],
      "text/plain": [
       "   Temp  Dew_point  Humidity  weekday  nombre_unites  area(km2)      density  \\\n",
       "0  -4.7       -6.3      89.0        1            2.0      24.16  5556.498344   \n",
       "1  -4.2       -6.3      85.0        1            1.0      24.16  5556.498344   \n",
       "2  -2.8       -6.2      77.0        1            1.0      24.16  5556.498344   \n",
       "3  -2.1       -5.7      76.0        1            3.0      24.16  5556.498344   \n",
       "4  -2.2       -5.5      78.0        1            1.0      24.16  5556.498344   \n",
       "\n",
       "   income-avg(2015)  income-median(2015)   population ...   h14  h15  h16  \\\n",
       "0           70105.0              51169.0  122475.1932 ...   0.0  0.0  0.0   \n",
       "1           70105.0              51169.0  122475.1932 ...   0.0  0.0  0.0   \n",
       "2           70105.0              51169.0  122475.1932 ...   0.0  0.0  0.0   \n",
       "3           70105.0              51169.0  122475.1932 ...   0.0  0.0  0.0   \n",
       "4           70105.0              51169.0  122475.1932 ...   0.0  0.0  0.0   \n",
       "\n",
       "   h17  h18  h19  h20  h21  h22  h23  \n",
       "0  0.0  0.0  0.0  0.0  0.0  0.0  0.0  \n",
       "1  0.0  0.0  0.0  0.0  0.0  0.0  0.0  \n",
       "2  0.0  0.0  0.0  0.0  0.0  0.0  0.0  \n",
       "3  0.0  0.0  0.0  0.0  0.0  0.0  0.0  \n",
       "4  0.0  0.0  0.0  0.0  0.0  0.0  0.0  \n",
       "\n",
       "[5 rows x 65 columns]"
      ]
     },
     "execution_count": 207,
     "metadata": {},
     "output_type": "execute_result"
    }
   ],
   "source": [
    "data.head()"
   ]
  },
  {
   "cell_type": "code",
   "execution_count": 208,
   "metadata": {},
   "outputs": [],
   "source": [
    "data=data.drop(['weekday'], axis=1)\n",
    "# data"
   ]
  },
  {
   "cell_type": "code",
   "execution_count": 209,
   "metadata": {},
   "outputs": [
    {
     "data": {
      "text/plain": [
       "['Temp',\n",
       " 'Dew_point',\n",
       " 'Humidity',\n",
       " 'area(km2)',\n",
       " 'density',\n",
       " 'income-avg(2015)',\n",
       " 'income-median(2015)',\n",
       " 'population',\n",
       " 'v1',\n",
       " 'v2',\n",
       " 'v3',\n",
       " 'v4',\n",
       " 'v5',\n",
       " 'v6',\n",
       " 'v7',\n",
       " 'v8',\n",
       " 'v9',\n",
       " 'v10',\n",
       " 'v11',\n",
       " 'v12',\n",
       " 'v13',\n",
       " 'v14',\n",
       " 'v15',\n",
       " 'v16',\n",
       " 'v17',\n",
       " 'v18',\n",
       " 'v19',\n",
       " 'v20',\n",
       " 'v21',\n",
       " 'v22',\n",
       " 'v23',\n",
       " 'v24',\n",
       " 'v25',\n",
       " 'v26',\n",
       " 'v27',\n",
       " 'v28',\n",
       " 'v29',\n",
       " 'v30',\n",
       " 'h0',\n",
       " 'h1',\n",
       " 'h2',\n",
       " 'h3',\n",
       " 'h4',\n",
       " 'h5',\n",
       " 'h6',\n",
       " 'h7',\n",
       " 'h8',\n",
       " 'h9',\n",
       " 'h10',\n",
       " 'h11',\n",
       " 'h12',\n",
       " 'h13',\n",
       " 'h14',\n",
       " 'h15',\n",
       " 'h16',\n",
       " 'h17',\n",
       " 'h18',\n",
       " 'h19',\n",
       " 'h20',\n",
       " 'h21',\n",
       " 'h22',\n",
       " 'h23',\n",
       " 'nombre_unites',\n",
       " '#int']"
      ]
     },
     "execution_count": 209,
     "metadata": {},
     "output_type": "execute_result"
    }
   ],
   "source": [
    "columns=data.columns.tolist()\n",
    "columns=columns[:3]+columns[4:9]+columns[10:]+[columns[3]]+[columns[9]]\n",
    "columns"
   ]
  },
  {
   "cell_type": "code",
   "execution_count": 210,
   "metadata": {},
   "outputs": [],
   "source": [
    "data=data[columns]"
   ]
  },
  {
   "cell_type": "code",
   "execution_count": 212,
   "metadata": {},
   "outputs": [],
   "source": [
    "scores=[[]]"
   ]
  },
  {
   "cell_type": "code",
   "execution_count": 213,
   "metadata": {},
   "outputs": [],
   "source": [
    "Y_values=  data[['nombre_unites',\"#int\"]].values\n",
    "X_values = data[data.columns[:8]].values\n",
    "X_values=scale(X_values)\n",
    "X_values1 = data[data.columns[8:-2]].values                \n",
    "X_values= np.concatenate((X_values, X_values1), axis=1)\n",
    "                \n",
    "X_train, X_test, y_train, y_test = train_test_split(X_values,Y_values,test_size=0.3,random_state=40)"
   ]
  },
  {
   "cell_type": "code",
   "execution_count": 214,
   "metadata": {},
   "outputs": [
    {
     "data": {
      "text/plain": [
       "array([[ 1.,  0.],\n",
       "       [ 2.,  0.],\n",
       "       [ 1.,  0.],\n",
       "       ..., \n",
       "       [ 1.,  0.],\n",
       "       [ 4.,  0.],\n",
       "       [ 3.,  0.]])"
      ]
     },
     "execution_count": 214,
     "metadata": {},
     "output_type": "execute_result"
    }
   ],
   "source": [
    "y_test"
   ]
  },
  {
   "cell_type": "code",
   "execution_count": 215,
   "metadata": {},
   "outputs": [],
   "source": [
    "# Train a model and predict the Number of units deployed for a special hour\n",
    "Ic1=LinearRegression()\n",
    "Ic1.fit(X_train,y_train[:,0])\n",
    "a=Ic1.score(X_test,y_test[:,0])\n",
    "units_hat=Ic1.predict(X_test)\n",
    "\n",
    "# Train a model and predict the Number of interventions in a special hour\n",
    "Ic2=LinearRegression()\n",
    "Ic2.fit(X_train,y_train[:,1])\n",
    "b=Ic2.score(X_test,y_test[:,1])\n",
    "\n",
    "int_hat=Ic2.predict(X_test)"
   ]
  },
  {
   "cell_type": "code",
   "execution_count": 216,
   "metadata": {},
   "outputs": [
    {
     "data": {
      "text/plain": [
       "array([ 1.92919922,  1.70117188,  2.02062988, ...,  1.75527954,\n",
       "        1.82113647,  1.92474365])"
      ]
     },
     "execution_count": 216,
     "metadata": {},
     "output_type": "execute_result"
    }
   ],
   "source": [
    "units_hat"
   ]
  },
  {
   "cell_type": "code",
   "execution_count": 217,
   "metadata": {},
   "outputs": [
    {
     "data": {
      "text/plain": [
       "array([ 0.20603561,  0.2299614 ,  0.76732254, ...,  0.46818161,\n",
       "        0.13062286, -0.13461685])"
      ]
     },
     "execution_count": 217,
     "metadata": {},
     "output_type": "execute_result"
    }
   ],
   "source": [
    "int_hat"
   ]
  },
  {
   "cell_type": "markdown",
   "metadata": {},
   "source": [
    "### Comparing the result of prediction and ture value"
   ]
  },
  {
   "cell_type": "code",
   "execution_count": 223,
   "metadata": {},
   "outputs": [
    {
     "data": {
      "text/plain": [
       "<matplotlib.text.Text at 0x23d55b26e48>"
      ]
     },
     "execution_count": 223,
     "metadata": {},
     "output_type": "execute_result"
    },
    {
     "data": {
      "image/png": "[encoded data removed]",
      "text/plain": [
       "<matplotlib.figure.Figure at 0x23d74f16898>"
      ]
     },
     "metadata": {},
     "output_type": "display_data"
    }
   ],
   "source": [
    "fig, ax = plt.subplots()\n",
    "ax.plot(range(0,len(y_test),10000),units_hat[range(0,len(y_test),10000)],'r-', label='Predicting value')\n",
    "ax.plot(range(0,len(y_test),10000),y_test[:,0][range(0,len(y_test),10000)],'b-', label='True value')\n",
    "# plt.plot(range(0,len(y_test),10000),y_hat[:,0][range(0,len(y_test),10000)],'r-',range(0,len(y_test),10000),y_test[:,0][range(0,len(y_test),10000)],'b-')\n",
    "legend = ax.legend(shadow=True, fontsize='x-large')\n",
    "plt.xlabel(\"ID of instance\")\n",
    "plt.ylabel(\"Number of vehicle units\")\n",
    "# plt.plot(range(0,len(y_test),10000),units_hat[range(0,len(y_test),10000)],'r-',range(0,len(y_test),10000),y_test[:,0][range(0,len(y_test),10000)],'b-')"
   ]
  },
  {
   "cell_type": "code",
   "execution_count": 224,
   "metadata": {},
   "outputs": [
    {
     "data": {
      "text/plain": [
       "<matplotlib.text.Text at 0x23d74fda6a0>"
      ]
     },
     "execution_count": 224,
     "metadata": {},
     "output_type": "execute_result"
    },
    {
     "data": {
      "image/png": "[encoded data removed]",
      "text/plain": [
       "<matplotlib.figure.Figure at 0x23d74f8bb38>"
      ]
     },
     "metadata": {},
     "output_type": "display_data"
    }
   ],
   "source": [
    "fig, ax = plt.subplots()\n",
    "ax.plot(range(0,len(y_test),10000),int_hat[range(0,len(y_test),10000)],'r-', label='Predicting value')\n",
    "ax.plot(range(0,len(y_test),10000),y_test[:,1][range(0,len(y_test),10000)],'b-', label='True value')\n",
    "\n",
    "legend = ax.legend(shadow=True, fontsize='x-large')\n",
    "plt.xlabel(\"ID of instance\")\n",
    "plt.ylabel(\"Number of interventions\")\n",
    "\n",
    "# plt.plot(range(0,len(y_test),10000),int_hat[range(0,len(y_test),10000)],'r-',range(0,len(y_test),10000),y_test[:,0][range(0,len(y_test),10000)],'b-')"
   ]
  },
  {
   "cell_type": "code",
   "execution_count": 221,
   "metadata": {},
   "outputs": [
    {
     "data": {
      "text/plain": [
       "(2663940, 62)"
      ]
     },
     "execution_count": 221,
     "metadata": {},
     "output_type": "execute_result"
    }
   ],
   "source": [
    "X_values.shape"
   ]
  },
  {
   "cell_type": "code",
   "execution_count": 222,
   "metadata": {},
   "outputs": [
    {
     "data": {
      "text/plain": [
       "0.03533605123108019"
      ]
     },
     "execution_count": 222,
     "metadata": {},
     "output_type": "execute_result"
    }
   ],
   "source": [
    "a"
   ]
  },
  {
   "cell_type": "code",
   "execution_count": 225,
   "metadata": {},
   "outputs": [
    {
     "data": {
      "text/plain": [
       "0.22887685074063102"
      ]
     },
     "execution_count": 225,
     "metadata": {},
     "output_type": "execute_result"
    }
   ],
   "source": [
    "b"
   ]
  },
  {
   "cell_type": "markdown",
   "metadata": {},
   "source": [
    "## 2. Neural Network"
   ]
  },
  {
   "cell_type": "code",
   "execution_count": 131,
   "metadata": {},
   "outputs": [],
   "source": [
    "import tensorflow as tf\n",
    "from tensorflow.layers import Dense\n",
    "from tensorflow.keras.layers import Flatten\n",
    "from tensorflow.keras import Sequential\n",
    "from tensorflow.python.keras import optimizers\n"
   ]
  },
  {
   "cell_type": "code",
   "execution_count": 137,
   "metadata": {},
   "outputs": [
    {
     "name": "stdout",
     "output_type": "stream",
     "text": [
      "_________________________________________________________________\n",
      "Layer (type)                 Output Shape              Param #   \n",
      "=================================================================\n",
      "dense_5 (Dense)              (None, 100)               6300      \n",
      "_________________________________________________________________\n",
      "dense_6 (Dense)              (None, 150)               15150     \n",
      "_________________________________________________________________\n",
      "dense_7 (Dense)              (None, 50)                7550      \n",
      "_________________________________________________________________\n",
      "dense_8 (Dense)              (None, 2)                 102       \n",
      "=================================================================\n",
      "Total params: 29,102\n",
      "Trainable params: 29,102\n",
      "Non-trainable params: 0\n",
      "_________________________________________________________________\n"
     ]
    }
   ],
   "source": [
    "model=Sequential()\n",
    "model.add(Dense(units=100, activation='tanh', input_dim=62))\n",
    "model.add(Dense(units=150, activation='tanh'))\n",
    "model.add(Dense(units=50, activation='tanh'))\n",
    "model.add(Dense(units=2, activation='linear'))\n",
    "\n",
    "model.compile(loss='mean_squared_error',\n",
    "              optimizer='sgd',\n",
    "              metrics=['mse'])\n",
    "model.summary()"
   ]
  },
  {
   "cell_type": "code",
   "execution_count": 138,
   "metadata": {},
   "outputs": [
    {
     "data": {
      "text/plain": [
       "(799182, 2)"
      ]
     },
     "execution_count": 138,
     "metadata": {},
     "output_type": "execute_result"
    }
   ],
   "source": [
    "y_test.shape"
   ]
  },
  {
   "cell_type": "code",
   "execution_count": 139,
   "metadata": {},
   "outputs": [
    {
     "data": {
      "text/plain": [
       "(1864758, 62)"
      ]
     },
     "execution_count": 139,
     "metadata": {},
     "output_type": "execute_result"
    }
   ],
   "source": [
    "X_train.shape"
   ]
  },
  {
   "cell_type": "code",
   "execution_count": 140,
   "metadata": {
    "scrolled": true
   },
   "outputs": [
    {
     "name": "stdout",
     "output_type": "stream",
     "text": [
      "Epoch 1/100\n",
      "1864758/1864758 [==============================] - 157s 84us/step - loss: 3.5822 - mean_squared_error: 3.5822\n",
      "Epoch 2/100\n",
      "1864758/1864758 [==============================] - 178s 96us/step - loss: 3.5690 - mean_squared_error: 3.5690\n",
      "Epoch 3/100\n",
      "1864758/1864758 [==============================] - 128s 69us/step - loss: 3.5660 - mean_squared_error: 3.5660\n",
      "Epoch 4/100\n",
      "1864758/1864758 [==============================] - 93s 50us/step - loss: 3.5638 - mean_squared_error: 3.5638\n",
      "Epoch 5/100\n",
      "1864758/1864758 [==============================] - 87s 47us/step - loss: 3.5621 - mean_squared_error: 3.5621\n",
      "Epoch 6/100\n",
      "1864758/1864758 [==============================] - 95s 51us/step - loss: 3.5606 - mean_squared_error: 3.5606\n",
      "Epoch 7/100\n",
      "1864758/1864758 [==============================] - 93s 50us/step - loss: 3.5594 - mean_squared_error: 3.5594\n",
      "Epoch 8/100\n",
      "1864758/1864758 [==============================] - 94s 50us/step - loss: 3.5582 - mean_squared_error: 3.5582\n",
      "Epoch 9/100\n",
      "1864758/1864758 [==============================] - 96s 51us/step - loss: 3.5574 - mean_squared_error: 3.5574\n",
      "Epoch 10/100\n",
      "1864758/1864758 [==============================] - 94s 51us/step - loss: 3.5565 - mean_squared_error: 3.5565\n",
      "Epoch 11/100\n",
      "1864758/1864758 [==============================] - 95s 51us/step - loss: 3.5558 - mean_squared_error: 3.5558\n",
      "Epoch 12/100\n",
      "1864758/1864758 [==============================] - 94s 50us/step - loss: 3.5548 - mean_squared_error: 3.5548\n",
      "Epoch 13/100\n",
      "1864758/1864758 [==============================] - 94s 50us/step - loss: 3.5543 - mean_squared_error: 3.5543\n",
      "Epoch 14/100\n",
      "1864758/1864758 [==============================] - 98s 53us/step - loss: 3.5538 - mean_squared_error: 3.5538\n",
      "Epoch 15/100\n",
      "1864758/1864758 [==============================] - 96s 52us/step - loss: 3.5533 - mean_squared_error: 3.5533\n",
      "Epoch 16/100\n",
      "1864758/1864758 [==============================] - 98s 52us/step - loss: 3.5524 - mean_squared_error: 3.5524\n",
      "Epoch 17/100\n",
      "1864758/1864758 [==============================] - 99s 53us/step - loss: 3.5519 - mean_squared_error: 3.5519\n",
      "Epoch 18/100\n",
      "1864758/1864758 [==============================] - 98s 53us/step - loss: 3.5518 - mean_squared_error: 3.5518\n",
      "Epoch 19/100\n",
      "1864758/1864758 [==============================] - ETA: 0s - loss: 3.5508 - mean_squared_error: 3.55 - 99s 53us/step - loss: 3.5514 - mean_squared_error: 3.5514\n",
      "Epoch 20/100\n",
      "1864758/1864758 [==============================] - 92s 49us/step - loss: 3.5509 - mean_squared_error: 3.5509\n",
      "Epoch 21/100\n",
      "1864758/1864758 [==============================] - 89s 48us/step - loss: 3.5506 - mean_squared_error: 3.5506\n",
      "Epoch 22/100\n",
      "1864758/1864758 [==============================] - 90s 48us/step - loss: 3.5501 - mean_squared_error: 3.5501\n",
      "Epoch 23/100\n",
      "1864758/1864758 [==============================] - 93s 50us/step - loss: 3.5499 - mean_squared_error: 3.5499\n",
      "Epoch 24/100\n",
      "1864758/1864758 [==============================] - 92s 49us/step - loss: 3.5494 - mean_squared_error: 3.5494\n",
      "Epoch 25/100\n",
      "1864758/1864758 [==============================] - 92s 49us/step - loss: 3.5493 - mean_squared_error: 3.5493\n",
      "Epoch 26/100\n",
      "1864758/1864758 [==============================] - 92s 49us/step - loss: 3.5489 - mean_squared_error: 3.5489\n",
      "Epoch 27/100\n",
      "1864758/1864758 [==============================] - 104s 56us/step - loss: 3.5483 - mean_squared_error: 3.5483\n",
      "Epoch 28/100\n",
      "1864758/1864758 [==============================] - 132s 71us/step - loss: 3.5483 - mean_squared_error: 3.5483\n",
      "Epoch 29/100\n",
      "1864758/1864758 [==============================] - 124s 66us/step - loss: 3.5480 - mean_squared_error: 3.5480\n",
      "Epoch 30/100\n",
      "1864758/1864758 [==============================] - 99s 53us/step - loss: 3.5473 - mean_squared_error: 3.5473\n",
      "Epoch 31/100\n",
      "1864758/1864758 [==============================] - 101s 54us/step - loss: 3.5478 - mean_squared_error: 3.5478\n",
      "Epoch 32/100\n",
      "1864758/1864758 [==============================] - 96s 51us/step - loss: 3.5470 - mean_squared_error: 3.5470\n",
      "Epoch 33/100\n",
      "1864758/1864758 [==============================] - 98s 53us/step - loss: 3.5469 - mean_squared_error: 3.5469\n",
      "Epoch 34/100\n",
      "1864758/1864758 [==============================] - 102s 55us/step - loss: 3.5466 - mean_squared_error: 3.5466\n",
      "Epoch 35/100\n",
      "1864758/1864758 [==============================] - 101s 54us/step - loss: 3.5462 - mean_squared_error: 3.5462\n",
      "Epoch 36/100\n",
      "1864758/1864758 [==============================] - 102s 55us/step - loss: 3.5459 - mean_squared_error: 3.5459\n",
      "Epoch 37/100\n",
      "1864758/1864758 [==============================] - 101s 54us/step - loss: 3.5460 - mean_squared_error: 3.5460\n",
      "Epoch 38/100\n",
      "1864758/1864758 [==============================] - 111s 59us/step - loss: 3.5454 - mean_squared_error: 3.5454\n",
      "Epoch 39/100\n",
      "1864758/1864758 [==============================] - 116s 62us/step - loss: 3.5455 - mean_squared_error: 3.5455\n",
      "Epoch 40/100\n",
      "1864758/1864758 [==============================] - 115s 62us/step - loss: 3.5453 - mean_squared_error: 3.5453\n",
      "Epoch 41/100\n",
      "1864758/1864758 [==============================] - 113s 61us/step - loss: 3.5450 - mean_squared_error: 3.5450\n",
      "Epoch 42/100\n",
      "1864758/1864758 [==============================] - 113s 61us/step - loss: 3.5445 - mean_squared_error: 3.5445\n",
      "Epoch 43/100\n",
      "1864758/1864758 [==============================] - 113s 61us/step - loss: 3.5443 - mean_squared_error: 3.5443\n",
      "Epoch 44/100\n",
      "1864758/1864758 [==============================] - 114s 61us/step - loss: 3.5444 - mean_squared_error: 3.5444\n",
      "Epoch 45/100\n",
      "1864758/1864758 [==============================] - 116s 62us/step - loss: 3.5441 - mean_squared_error: 3.5441\n",
      "Epoch 46/100\n",
      "1864758/1864758 [==============================] - 116s 62us/step - loss: 3.5440 - mean_squared_error: 3.5440\n",
      "Epoch 47/100\n",
      "1864758/1864758 [==============================] - 114s 61us/step - loss: 3.5438 - mean_squared_error: 3.5438\n",
      "Epoch 48/100\n",
      "1864758/1864758 [==============================] - 106s 57us/step - loss: 3.5437 - mean_squared_error: 3.5437\n",
      "Epoch 49/100\n",
      "1864758/1864758 [==============================] - 102s 55us/step - loss: 3.5433 - mean_squared_error: 3.5433\n",
      "Epoch 50/100\n",
      "1864758/1864758 [==============================] - 102s 55us/step - loss: 3.5431 - mean_squared_error: 3.5431\n",
      "Epoch 51/100\n",
      "1864758/1864758 [==============================] - 102s 55us/step - loss: 3.5432 - mean_squared_error: 3.5432\n",
      "Epoch 52/100\n",
      "1864758/1864758 [==============================] - 110s 59us/step - loss: 3.5427 - mean_squared_error: 3.5427\n",
      "Epoch 53/100\n",
      "1864758/1864758 [==============================] - 105s 56us/step - loss: 3.5425 - mean_squared_error: 3.5425\n",
      "Epoch 54/100\n",
      "1864758/1864758 [==============================] - 102s 55us/step - loss: 3.5422 - mean_squared_error: 3.5422\n",
      "Epoch 55/100\n",
      "1864758/1864758 [==============================] - 106s 57us/step - loss: 3.5423 - mean_squared_error: 3.5423\n",
      "Epoch 56/100\n",
      "1864758/1864758 [==============================] - 107s 58us/step - loss: 3.5417 - mean_squared_error: 3.5417\n",
      "Epoch 57/100\n",
      "1864758/1864758 [==============================] - 102s 55us/step - loss: 3.5419 - mean_squared_error: 3.5419\n",
      "Epoch 58/100\n",
      "1864758/1864758 [==============================] - 97s 52us/step - loss: 3.5417 - mean_squared_error: 3.5417\n",
      "Epoch 59/100\n",
      "1864758/1864758 [==============================] - 98s 52us/step - loss: 3.5415 - mean_squared_error: 3.5415\n",
      "Epoch 60/100\n",
      "1864758/1864758 [==============================] - 98s 53us/step - loss: 3.5411 - mean_squared_error: 3.5411\n",
      "Epoch 61/100\n",
      "1864758/1864758 [==============================] - 98s 52us/step - loss: 3.5412 - mean_squared_error: 3.5412\n",
      "Epoch 62/100\n",
      "1864758/1864758 [==============================] - 104s 56us/step - loss: 3.5407 - mean_squared_error: 3.5407\n",
      "Epoch 63/100\n",
      "1864758/1864758 [==============================] - 98s 52us/step - loss: 3.5406 - mean_squared_error: 3.5406\n",
      "Epoch 64/100\n",
      "1864758/1864758 [==============================] - 101s 54us/step - loss: 3.5404 - mean_squared_error: 3.5404\n",
      "Epoch 65/100\n",
      "1864758/1864758 [==============================] - 95s 51us/step - loss: 3.5403 - mean_squared_error: 3.5403\n",
      "Epoch 66/100\n",
      "1864758/1864758 [==============================] - 102s 55us/step - loss: 3.5402 - mean_squared_error: 3.5402\n",
      "Epoch 67/100\n",
      "1864758/1864758 [==============================] - 97s 52us/step - loss: 3.5398 - mean_squared_error: 3.5398\n",
      "Epoch 68/100\n",
      "1864758/1864758 [==============================] - 96s 52us/step - loss: 3.5401 - mean_squared_error: 3.5401\n",
      "Epoch 69/100\n",
      "1864758/1864758 [==============================] - 95s 51us/step - loss: 3.5396 - mean_squared_error: 3.5396\n",
      "Epoch 70/100\n",
      "1864758/1864758 [==============================] - 95s 51us/step - loss: 3.5395 - mean_squared_error: 3.5395\n",
      "Epoch 71/100\n",
      "1864758/1864758 [==============================] - 94s 50us/step - loss: 3.5391 - mean_squared_error: 3.5391\n",
      "Epoch 72/100\n",
      "1864758/1864758 [==============================] - 94s 50us/step - loss: 3.5391 - mean_squared_error: 3.5391\n",
      "Epoch 73/100\n",
      "1864758/1864758 [==============================] - 95s 51us/step - loss: 3.5386 - mean_squared_error: 3.5386\n",
      "Epoch 74/100\n",
      "1864758/1864758 [==============================] - 111s 60us/step - loss: 3.5384 - mean_squared_error: 3.5384\n",
      "Epoch 75/100\n",
      "1864758/1864758 [==============================] - 111s 60us/step - loss: 3.5388 - mean_squared_error: 3.5388\n",
      "Epoch 76/100\n",
      "1864758/1864758 [==============================] - 102s 55us/step - loss: 3.5384 - mean_squared_error: 3.5384\n",
      "Epoch 77/100\n",
      "1864758/1864758 [==============================] - 93s 50us/step - loss: 3.5387 - mean_squared_error: 3.5387\n",
      "Epoch 78/100\n",
      "1864758/1864758 [==============================] - 89s 48us/step - loss: 3.5382 - mean_squared_error: 3.5382\n",
      "Epoch 79/100\n",
      "1864758/1864758 [==============================] - 90s 48us/step - loss: 3.5380 - mean_squared_error: 3.5380\n",
      "Epoch 80/100\n",
      "1864758/1864758 [==============================] - 89s 48us/step - loss: 3.5378 - mean_squared_error: 3.5378\n",
      "Epoch 81/100\n",
      "1864758/1864758 [==============================] - 90s 48us/step - loss: 3.5376 - mean_squared_error: 3.5376\n",
      "Epoch 82/100\n",
      "1864758/1864758 [==============================] - 100s 53us/step - loss: 3.5374 - mean_squared_error: 3.5374\n",
      "Epoch 83/100\n",
      "1864758/1864758 [==============================] - 101s 54us/step - loss: 3.5371 - mean_squared_error: 3.5371\n",
      "Epoch 84/100\n",
      "1864758/1864758 [==============================] - 101s 54us/step - loss: 3.5369 - mean_squared_error: 3.5369\n",
      "Epoch 85/100\n",
      "1864758/1864758 [==============================] - 97s 52us/step - loss: 3.5368 - mean_squared_error: 3.5368\n",
      "Epoch 86/100\n",
      "1864758/1864758 [==============================] - 93s 50us/step - loss: 3.5366 - mean_squared_error: 3.5366\n",
      "Epoch 87/100\n",
      "1864758/1864758 [==============================] - 91s 49us/step - loss: 3.5365 - mean_squared_error: 3.5365\n",
      "Epoch 88/100\n",
      "1864758/1864758 [==============================] - 93s 50us/step - loss: 3.5365 - mean_squared_error: 3.5365\n",
      "Epoch 89/100\n",
      "1864758/1864758 [==============================] - 95s 51us/step - loss: 3.5362 - mean_squared_error: 3.5362\n",
      "Epoch 90/100\n",
      "1864758/1864758 [==============================] - 90s 49us/step - loss: 3.5364 - mean_squared_error: 3.5364\n",
      "Epoch 91/100\n",
      "1864758/1864758 [==============================] - 92s 49us/step - loss: 3.5362 - mean_squared_error: 3.5362\n",
      "Epoch 92/100\n",
      "1864758/1864758 [==============================] - 92s 49us/step - loss: 3.5353 - mean_squared_error: 3.5353\n",
      "Epoch 93/100\n",
      "1864758/1864758 [==============================] - 92s 49us/step - loss: 3.5352 - mean_squared_error: 3.5352\n",
      "Epoch 94/100\n",
      "1864758/1864758 [==============================] - 92s 50us/step - loss: 3.5352 - mean_squared_error: 3.5352\n",
      "Epoch 95/100\n",
      "1864758/1864758 [==============================] - 92s 49us/step - loss: 3.5354 - mean_squared_error: 3.5354\n",
      "Epoch 96/100\n",
      "1864758/1864758 [==============================] - 99s 53us/step - loss: 3.5354 - mean_squared_error: 3.5354\n",
      "Epoch 97/100\n",
      "1864758/1864758 [==============================] - 93s 50us/step - loss: 3.5350 - mean_squared_error: 3.5350\n",
      "Epoch 98/100\n",
      "1864758/1864758 [==============================] - 92s 49us/step - loss: 3.5349 - mean_squared_error: 3.5349\n",
      "Epoch 99/100\n",
      "1864758/1864758 [==============================] - 89s 48us/step - loss: 3.5343 - mean_squared_error: 3.5343\n",
      "Epoch 100/100\n",
      "1864758/1864758 [==============================] - 90s 48us/step - loss: 3.5343 - mean_squared_error: 3.5343\n"
     ]
    },
    {
     "data": {
      "text/plain": [
       "<tensorflow.python.keras.callbacks.History at 0x23d0cf99f98>"
      ]
     },
     "execution_count": 140,
     "metadata": {},
     "output_type": "execute_result"
    }
   ],
   "source": [
    "model.fit(X_train, y_train,epochs=100,batch_size=50)"
   ]
  },
  {
   "cell_type": "code",
   "execution_count": 146,
   "metadata": {},
   "outputs": [],
   "source": [
    "y_hat=model.predict(X_test)"
   ]
  },
  {
   "cell_type": "code",
   "execution_count": 142,
   "metadata": {},
   "outputs": [
    {
     "data": {
      "text/plain": [
       "(799182, 2)"
      ]
     },
     "execution_count": 142,
     "metadata": {},
     "output_type": "execute_result"
    }
   ],
   "source": [
    "y_hat.shape"
   ]
  },
  {
   "cell_type": "code",
   "execution_count": 143,
   "metadata": {},
   "outputs": [
    {
     "data": {
      "text/plain": [
       "0.40983181576010175"
      ]
     },
     "execution_count": 143,
     "metadata": {},
     "output_type": "execute_result"
    }
   ],
   "source": [
    "MSE(y_hat[0],y_test[0])"
   ]
  },
  {
   "cell_type": "code",
   "execution_count": 144,
   "metadata": {},
   "outputs": [
    {
     "data": {
      "text/plain": [
       "0.07357071037036178"
      ]
     },
     "execution_count": 144,
     "metadata": {},
     "output_type": "execute_result"
    }
   ],
   "source": [
    "MSE(y_hat[1],y_test[1])"
   ]
  },
  {
   "cell_type": "code",
   "execution_count": 191,
   "metadata": {},
   "outputs": [
    {
     "data": {
      "text/plain": [
       "<matplotlib.text.Text at 0x23d558c0d30>"
      ]
     },
     "execution_count": 191,
     "metadata": {},
     "output_type": "execute_result"
    },
    {
     "data": {
      "image/png": "[encoded data removed]",
      "text/plain": [
       "<matplotlib.figure.Figure at 0x23d55811f28>"
      ]
     },
     "metadata": {},
     "output_type": "display_data"
    }
   ],
   "source": [
    "fig, ax = plt.subplots()\n",
    "ax.plot(range(0,len(y_test),10000),y_hat[:,0][range(0,len(y_test),10000)],'r-', label='Predicting value')\n",
    "ax.plot(range(0,len(y_test),10000),y_test[:,0][range(0,len(y_test),10000)],'b-', label='True value')\n",
    "# plt.plot(range(0,len(y_test),10000),y_hat[:,0][range(0,len(y_test),10000)],'r-',range(0,len(y_test),10000),y_test[:,0][range(0,len(y_test),10000)],'b-')\n",
    "legend = ax.legend(shadow=True, fontsize='x-large')\n",
    "plt.xlabel(\"ID of instance\")\n",
    "plt.ylabel(\"Number of vehicle units\")\n"
   ]
  },
  {
   "cell_type": "code",
   "execution_count": 192,
   "metadata": {},
   "outputs": [
    {
     "data": {
      "text/plain": [
       "[<matplotlib.lines.Line2D at 0x23d559e1fd0>,\n",
       " <matplotlib.lines.Line2D at 0x23d559f1a20>]"
      ]
     },
     "execution_count": 192,
     "metadata": {},
     "output_type": "execute_result"
    },
    {
     "data": {
      "image/png": "[encoded data removed]",
      "text/plain": [
       "<matplotlib.figure.Figure at 0x23d558a5ac8>"
      ]
     },
     "metadata": {},
     "output_type": "display_data"
    }
   ],
   "source": [
    "fig, ax = plt.subplots()\n",
    "ax.plot(range(0,len(y_test),10000),y_hat[:,0][range(0,len(y_test),10000)],'r-', label='Predicting value')\n",
    "ax.plot(range(0,len(y_test),10000),y_test[:,0][range(0,len(y_test),10000)],'b-', label='True value')\n",
    "# plt.plot(range(0,len(y_test),10000),y_hat[:,0][range(0,len(y_test),10000)],'r-',range(0,len(y_test),10000),y_test[:,0][range(0,len(y_test),10000)],'b-')\n",
    "legend = ax.legend(shadow=True, fontsize='x-large')\n",
    "plt.xlabel(\"ID of instance\")\n",
    "plt.ylabel(\"Number of interventions\")\n",
    "\n",
    "# plt.plot(range(0,len(y_test),10000),y_hat[:,1][range(0,len(y_test),10000)],'r-',range(0,len(y_test),10000),y_test[:,1][range(0,len(y_test),10000)],'b-')"
   ]
  },
  {
   "cell_type": "code",
   "execution_count": null,
   "metadata": {},
   "outputs": [],
   "source": []
  }
 ],
 "metadata": {
  "kernelspec": {
   "display_name": "Python 3",
   "language": "python",
   "name": "python3"
  },
  "language_info": {
   "codemirror_mode": {
    "name": "ipython",
    "version": 3
   },
   "file_extension": ".py",
   "mimetype": "text/x-python",
   "name": "python",
   "nbconvert_exporter": "python",
   "pygments_lexer": "ipython3",
   "version": "3.6.2"
  }
 },
 "nbformat": 4,
 "nbformat_minor": 2
}
